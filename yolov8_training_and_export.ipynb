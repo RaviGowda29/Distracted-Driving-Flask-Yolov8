{
 "cells": [
  {
   "cell_type": "code",
   "execution_count": null,
   "metadata": {
    "vscode": {
     "languageId": "plaintext"
    }
   },
   "outputs": [],
   "source": [
    "# Step 1: Install necessary packages\n",
    "!pip install ultralytics tensorflow annex onnxruntime onnxsim tflite-support "
   ]
  },
  {
   "cell_type": "code",
   "execution_count": null,
   "metadata": {
    "vscode": {
     "languageId": "plaintext"
    }
   },
   "outputs": [],
   "source": [
    "# Step 2: Import necessary libraries \n",
    "import torch \n",
    "from ultralytics import YOLO \n",
    "# Check the version of PyTorch \n",
    "print(\"PyTorch version:\", torch.__version__) "
   ]
  },
  {
   "cell_type": "code",
   "execution_count": null,
   "metadata": {
    "vscode": {
     "languageId": "plaintext"
    }
   },
   "outputs": [],
   "source": [
    "# Step 3: Load the YOLO model\n",
    "model = YOLO(\"yolov8n.pt\")  # Ensure you have the correct YOLOv8 model file\n"
   ]
  },
  {
   "cell_type": "code",
   "execution_count": null,
   "metadata": {
    "vscode": {
     "languageId": "plaintext"
    }
   },
   "outputs": [],
   "source": [
    "# Step 4: Train the model\n",
    "model.train(data=\"data.yaml\", epochs=100)  # Ensure 'data.yaml' is correctly configured\n"
   ]
  },
  {
   "cell_type": "code",
   "execution_count": null,
   "metadata": {
    "vscode": {
     "languageId": "plaintext"
    }
   },
   "outputs": [],
   "source": [
    "# Step 5: Load the best model after training\n",
    "model = YOLO(\"/absolute/path/to/your_project/runs/train/exp/weights/best.pt\")\n",
    "# Adjust path as necessary\n",
    "# Example model = YOLO(\"runs/train/exp/weights/best.pt\")\n",
    "\n"
   ]
  },
  {
   "cell_type": "code",
   "execution_count": null,
   "metadata": {
    "vscode": {
     "languageId": "plaintext"
    }
   },
   "outputs": [],
   "source": [
    "# Step 6: Export the model to TensorFlow SavedModel format\n",
    "model.export(format=\"pb\")"
   ]
  }
 ],
 "metadata": {
  "language_info": {
   "name": "python"
  }
 },
 "nbformat": 4,
 "nbformat_minor": 2
}
